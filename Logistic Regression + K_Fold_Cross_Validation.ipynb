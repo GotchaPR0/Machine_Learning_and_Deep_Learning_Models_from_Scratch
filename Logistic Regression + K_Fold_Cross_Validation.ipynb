{
  "cells": [
    {
      "cell_type": "code",
      "execution_count": null,
      "metadata": {
        "id": "uqncjYB3RX-l"
      },
      "outputs": [],
      "source": [
        "import pandas as pd\n",
        "import numpy as np\n",
        "import matplotlib.pyplot as plt\n",
        "import seaborn as sns"
      ]
    },
    {
      "cell_type": "code",
      "execution_count": null,
      "metadata": {
        "colab": {
          "base_uri": "https://localhost:8080/"
        },
        "id": "IqEldyUFRd_Q",
        "outputId": "276c5a33-e55f-45f0-e1f7-a0793b639fbb"
      },
      "outputs": [
        {
          "output_type": "stream",
          "name": "stdout",
          "text": [
            "X_train: (60000, 28, 28)\n",
            "Y_train: (60000,)\n",
            "X_test:  (10000, 28, 28)\n",
            "Y_test:  (10000,)\n"
          ]
        }
      ],
      "source": [
        "from keras.datasets import mnist\n",
        "\n",
        "# Importing MNIST Dataset\n",
        "(X_train, Y_train) , (X_test, Y_test) = mnist.load_data()\n",
        "print('X_train: ' + str(X_train.shape))\n",
        "print('Y_train: ' + str(Y_train.shape))\n",
        "print('X_test:  ' + str(X_test.shape))\n",
        "print('Y_test:  ' + str(Y_test.shape))"
      ]
    },
    {
      "cell_type": "code",
      "execution_count": null,
      "metadata": {
        "id": "CDQimRMBUjyU",
        "colab": {
          "base_uri": "https://localhost:8080/"
        },
        "outputId": "552edf71-3557-4757-a68d-163ea4112a6a"
      },
      "outputs": [
        {
          "output_type": "stream",
          "name": "stdout",
          "text": [
            "X_train: (12665, 28, 28)\n",
            "Y_train: (12665,)\n",
            "X_test:  (2115, 28, 28)\n",
            "Y_test:  (2115,)\n"
          ]
        }
      ],
      "source": [
        "# Filtering the data to use only digit 0 and digit 1\n",
        "train_filter = np.where((Y_train == 0 ) | (Y_train == 1))\n",
        "test_filter = np.where((Y_test == 0) | (Y_test == 1))\n",
        "\n",
        "X_train , X_test = X_train[train_filter] , X_test[test_filter]\n",
        "Y_train , Y_test = Y_train[train_filter] , Y_test[test_filter]\n",
        "\n",
        "print('X_train: ' + str(X_train.shape))\n",
        "print('Y_train: ' + str(Y_train.shape))\n",
        "print('X_test:  ' + str(X_test.shape))\n",
        "print('Y_test:  ' + str(Y_test.shape))"
      ]
    },
    {
      "cell_type": "code",
      "execution_count": null,
      "metadata": {
        "colab": {
          "base_uri": "https://localhost:8080/"
        },
        "id": "mK5HmtfLUVx7",
        "outputId": "23fd330c-1470-41e0-d615-7408fa3ded45"
      },
      "outputs": [
        {
          "output_type": "stream",
          "name": "stdout",
          "text": [
            "[[[0 0 0 ... 0 0 0]\n",
            "  [0 0 0 ... 0 0 0]\n",
            "  [0 0 0 ... 0 0 0]\n",
            "  ...\n",
            "  [0 0 0 ... 0 0 0]\n",
            "  [0 0 0 ... 0 0 0]\n",
            "  [0 0 0 ... 0 0 0]]\n",
            "\n",
            " [[0 0 0 ... 0 0 0]\n",
            "  [0 0 0 ... 0 0 0]\n",
            "  [0 0 0 ... 0 0 0]\n",
            "  ...\n",
            "  [0 0 0 ... 0 0 0]\n",
            "  [0 0 0 ... 0 0 0]\n",
            "  [0 0 0 ... 0 0 0]]\n",
            "\n",
            " [[0 0 0 ... 0 0 0]\n",
            "  [0 0 0 ... 0 0 0]\n",
            "  [0 0 0 ... 0 0 0]\n",
            "  ...\n",
            "  [0 0 0 ... 0 0 0]\n",
            "  [0 0 0 ... 0 0 0]\n",
            "  [0 0 0 ... 0 0 0]]\n",
            "\n",
            " ...\n",
            "\n",
            " [[0 0 0 ... 0 0 0]\n",
            "  [0 0 0 ... 0 0 0]\n",
            "  [0 0 0 ... 0 0 0]\n",
            "  ...\n",
            "  [0 0 0 ... 0 0 0]\n",
            "  [0 0 0 ... 0 0 0]\n",
            "  [0 0 0 ... 0 0 0]]\n",
            "\n",
            " [[0 0 0 ... 0 0 0]\n",
            "  [0 0 0 ... 0 0 0]\n",
            "  [0 0 0 ... 0 0 0]\n",
            "  ...\n",
            "  [0 0 0 ... 0 0 0]\n",
            "  [0 0 0 ... 0 0 0]\n",
            "  [0 0 0 ... 0 0 0]]\n",
            "\n",
            " [[0 0 0 ... 0 0 0]\n",
            "  [0 0 0 ... 0 0 0]\n",
            "  [0 0 0 ... 0 0 0]\n",
            "  ...\n",
            "  [0 0 0 ... 0 0 0]\n",
            "  [0 0 0 ... 0 0 0]\n",
            "  [0 0 0 ... 0 0 0]]]\n"
          ]
        }
      ],
      "source": [
        "print(X_train)"
      ]
    },
    {
      "cell_type": "code",
      "execution_count": null,
      "metadata": {
        "colab": {
          "base_uri": "https://localhost:8080/"
        },
        "id": "2K0ShZSXSaCS",
        "outputId": "e999cd04-86eb-4914-8445-a098437fe3fb"
      },
      "outputs": [
        {
          "output_type": "stream",
          "name": "stdout",
          "text": [
            "[0 1 1 ... 1 0 1]\n"
          ]
        }
      ],
      "source": [
        "print(Y_train)"
      ]
    },
    {
      "cell_type": "code",
      "execution_count": null,
      "metadata": {
        "id": "2QC3OE0_Sn4o"
      },
      "outputs": [],
      "source": [
        "# Standardization of data\n",
        "X_train = ((X_train - X_train.mean()) / (X_train.std()))\n",
        "X_test = ((X_test - X_train.mean()) / (X_train.std()))"
      ]
    },
    {
      "cell_type": "code",
      "execution_count": null,
      "metadata": {
        "colab": {
          "base_uri": "https://localhost:8080/"
        },
        "id": "XcoBhsKyvEmZ",
        "outputId": "da0e4ee9-ab18-42bb-f81c-10421348e56c"
      },
      "outputs": [
        {
          "output_type": "stream",
          "name": "stdout",
          "text": [
            "X_train: (12665, 784)\n",
            "Y_train: (12665,)\n",
            "X_test:  (2115, 784)\n",
            "Y_test:  (2115,)\n",
            "12665\n"
          ]
        }
      ],
      "source": [
        "# Reshaping the data to use it as 2D not 3D\n",
        "X_train = X_train.reshape(X_train.shape[0] , -1)\n",
        "X_test = X_test.reshape(X_test.shape[0] , -1)\n",
        "print('X_train: ' + str(X_train.shape))\n",
        "print('Y_train: ' + str(Y_train.shape))\n",
        "print('X_test:  ' + str(X_test.shape))\n",
        "print('Y_test:  ' + str(Y_test.shape))\n",
        "print(len(X_train))"
      ]
    },
    {
      "cell_type": "code",
      "execution_count": null,
      "metadata": {
        "id": "xDeTO_KgnE4a"
      },
      "outputs": [],
      "source": [
        "# Functions to calculate the accuracy\n",
        "\"\"\"def accuracy(predict, real, normalize=True):\n",
        "    accuracy=[]\n",
        "\n",
        "    for i in range(len(predict)):\n",
        "        if predict[i] == real[i]:\n",
        "            accuracy.append(1)\n",
        "        else:\n",
        "            accuracy.append(0)\n",
        "\n",
        "    if normalize == True:\n",
        "        return np.mean(accuracy)\n",
        "    if normalize == False:\n",
        "        return sum(accuracy)\"\"\"\n",
        "\n",
        "def accuracy(predict, real, normalize=True):\n",
        "  return (np.sum(predict == real) / len(real)) * 100"
      ]
    },
    {
      "cell_type": "code",
      "execution_count": null,
      "metadata": {
        "id": "96oamka7iCQl"
      },
      "outputs": [],
      "source": [
        "# Implemeting our activation Function (Sigmoid Function)\n",
        "def sigmoid(z):\n",
        "\n",
        "    sigmoid_fn = 1/ (1 + np.exp(-z))\n",
        "\n",
        "    return sigmoid_fn"
      ]
    },
    {
      "cell_type": "code",
      "execution_count": null,
      "metadata": {
        "id": "0wY40xgWjrhN"
      },
      "outputs": [],
      "source": [
        "# Implemeting the cross entropy\n",
        "def costFunction(x, y , alpha , w , b):\n",
        "\n",
        "    z = np.dot(w, x.T) + b #Net-Input\n",
        "    phi = sigmoid(z) #Activation Function\n",
        "\n",
        "    #Cost function\n",
        "    cost = np.mean(-y * np.log(phi) - (1.0 - y) * np.log(1.0 - phi))\n",
        "\n",
        "    #Compute Derivative\n",
        "    dj_dw = (np.dot((phi - y).T, x) * alpha) / x.shape[0]\n",
        "    dj_db = (np.mean((phi - y) * alpha))\n",
        "\n",
        "    w = w - dj_dw\n",
        "    b = b - dj_db\n",
        "\n",
        "    return cost , w , b"
      ]
    },
    {
      "cell_type": "code",
      "execution_count": null,
      "metadata": {
        "id": "2IWac-SLjtx1"
      },
      "outputs": [],
      "source": [
        "# Implementing the Logistic Regression\n",
        "def gradientDescent(X , Y , alpha , num_iterations):\n",
        "\n",
        "    cost_history = []\n",
        "    cost = 0.0\n",
        "    w = np.random.rand(X.shape[1])\n",
        "    b = np.random.randn()\n",
        "\n",
        "    for i in range(num_iterations):\n",
        "        cost , w , b = costFunction(X , Y , alpha , w , b)\n",
        "\n",
        "        cost_history.append(cost)\n",
        "\n",
        "    return cost , w , b"
      ]
    },
    {
      "cell_type": "code",
      "execution_count": null,
      "metadata": {
        "id": "IE9J-0kACwCz"
      },
      "outputs": [],
      "source": [
        "# Function that calculates the prediction\n",
        "def predict(x, w, b):\n",
        "\n",
        "  z = np.dot(w, x.T) + b #Net-Input\n",
        "  result = sigmoid(z)\n",
        "\n",
        "  return np.where(result >= 0.5, 1, 0).flatten()"
      ]
    },
    {
      "cell_type": "code",
      "execution_count": null,
      "metadata": {
        "id": "_37BN3YGXLtH"
      },
      "outputs": [],
      "source": [
        "from numpy.lib.function_base import average\n",
        "def k_fold_cross_valid(X, Y, k):\n",
        "\n",
        "  learning_rates = [0.0001, 0.0005, 0.001, 0.005, 0.01 , 0.1]\n",
        "  lr_scores = []\n",
        "\n",
        "  # Shuffle the data\n",
        "  n = X.shape[0]\n",
        "  fold_siz = n // k\n",
        "  indices = np.arange(n)\n",
        "  np.random.shuffle(indices)\n",
        "\n",
        "  # Calculate the scores for each fold\n",
        "  fold_scores = []\n",
        "  for fold in range(k):\n",
        "        start = fold * fold_siz\n",
        "        end = (fold + 1) * fold_siz\n",
        "        val_indices = indices[start:end]\n",
        "        train_indices = np.concatenate([indices[:start], indices[end:]])\n",
        "        X_train_fold = X[train_indices].copy()\n",
        "        Y_train_fold = Y[train_indices].copy()\n",
        "        X_val = X[val_indices]\n",
        "        Y_val = Y[val_indices]\n",
        "\n",
        "        for alpha in learning_rates:\n",
        "          cost , w , b = gradientDescent(X_train_fold , Y_train_fold , alpha , 500)\n",
        "          pred = predict(X_train_fold , w , b)\n",
        "          #print(pred)\n",
        "          #print(Y_train_fold)\n",
        "          accuracy_score = accuracy(pred , Y_train_fold)\n",
        "          lr_scores.append(accuracy_score)\n",
        "          print(\"Fold#: \" + str(fold) + \" , Learning Rate: \" + str(alpha) + \" , Accuracy: \" + str(accuracy_score))\n",
        "\n",
        "  res = max(lr_scores)\n",
        "  res_index = lr_scores.index(res) % 6\n",
        "  print(\"Maximum Accuracy: \" + str(res) + \" , Learning Rate: \" + str(learning_rates[res_index]))"
      ]
    },
    {
      "cell_type": "code",
      "execution_count": null,
      "metadata": {
        "colab": {
          "base_uri": "https://localhost:8080/"
        },
        "id": "KfzMuhJalMgh",
        "outputId": "cad33eeb-d86a-4b7b-f6af-e4f94303e9af"
      },
      "outputs": [
        {
          "output_type": "stream",
          "name": "stderr",
          "text": [
            "<ipython-input-24-144354161b5d>:8: RuntimeWarning: divide by zero encountered in log\n",
            "  cost = np.mean(-y * np.log(phi) - (1.0 - y) * np.log(1.0 - phi))\n",
            "<ipython-input-24-144354161b5d>:8: RuntimeWarning: invalid value encountered in multiply\n",
            "  cost = np.mean(-y * np.log(phi) - (1.0 - y) * np.log(1.0 - phi))\n"
          ]
        },
        {
          "output_type": "stream",
          "name": "stdout",
          "text": [
            "Fold#: 0 , Learning Rate: 0.0001 , Accuracy: 8.183325438180956\n",
            "Fold#: 0 , Learning Rate: 0.0005 , Accuracy: 21.210326859308385\n",
            "Fold#: 0 , Learning Rate: 0.001 , Accuracy: 48.70914258645192\n",
            "Fold#: 0 , Learning Rate: 0.005 , Accuracy: 92.23117006158219\n",
            "Fold#: 0 , Learning Rate: 0.01 , Accuracy: 96.13927048792041\n",
            "Fold#: 0 , Learning Rate: 0.1 , Accuracy: 99.54997631454287\n",
            "Fold#: 1 , Learning Rate: 0.0001 , Accuracy: 7.922785409758408\n",
            "Fold#: 1 , Learning Rate: 0.0005 , Accuracy: 23.223590715300805\n",
            "Fold#: 1 , Learning Rate: 0.001 , Accuracy: 45.108953102794885\n",
            "Fold#: 1 , Learning Rate: 0.005 , Accuracy: 92.02984367598295\n",
            "Fold#: 1 , Learning Rate: 0.01 , Accuracy: 96.44718143060162\n",
            "Fold#: 1 , Learning Rate: 0.1 , Accuracy: 99.58550450023685\n",
            "Fold#: 2 , Learning Rate: 0.0001 , Accuracy: 9.628138323069635\n",
            "Fold#: 2 , Learning Rate: 0.0005 , Accuracy: 22.513027001421126\n",
            "Fold#: 2 , Learning Rate: 0.001 , Accuracy: 48.42491710090005\n",
            "Fold#: 2 , Learning Rate: 0.005 , Accuracy: 92.18379914732354\n",
            "Fold#: 2 , Learning Rate: 0.01 , Accuracy: 96.25769777356703\n",
            "Fold#: 2 , Learning Rate: 0.1 , Accuracy: 99.58550450023685\n",
            "Maximum Accuracy: 99.58550450023685 , Learning Rate: 0.1\n"
          ]
        }
      ],
      "source": [
        "k_fold_cross_valid(X_train, Y_train, 3)"
      ]
    },
    {
      "cell_type": "code",
      "execution_count": null,
      "metadata": {
        "id": "wQpq9VITIacY"
      },
      "outputs": [],
      "source": []
    }
  ],
  "metadata": {
    "colab": {
      "provenance": []
    },
    "kernelspec": {
      "display_name": "Python 3",
      "name": "python3"
    },
    "language_info": {
      "name": "python"
    }
  },
  "nbformat": 4,
  "nbformat_minor": 0
}